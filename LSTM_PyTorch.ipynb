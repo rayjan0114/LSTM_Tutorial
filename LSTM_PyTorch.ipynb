{
 "cells": [
  {
   "cell_type": "markdown",
   "metadata": {
    "colab_type": "text",
    "id": "00OnrM2oQ9v9"
   },
   "source": [
    "<div style=\"text-align:center;\"><h1>LSTM PyTorch</h1></div>\n",
    "\n",
    "\n"
   ]
  },
  {
   "cell_type": "code",
   "execution_count": 847,
   "metadata": {
    "colab": {
     "base_uri": "https://localhost:8080/",
     "height": 122
    },
    "colab_type": "code",
    "executionInfo": {
     "elapsed": 33120,
     "status": "ok",
     "timestamp": 1556252476381,
     "user": {
      "displayName": "張佳誠",
      "photoUrl": "",
      "userId": "15601548630795087269"
     },
     "user_tz": -480
    },
    "id": "9BHUGecD6R1Y",
    "outputId": "65a02d1a-eb7a-4d3d-b1e4-ae1f6c8bab16"
   },
   "outputs": [],
   "source": [
    "\"\"\"\n",
    "The idea comes from this scratch version of LSTM:\n",
    "https://www.kaggle.com/rayjan/lstm-neural-network-from-scratch-106ffb/edit\n",
    "The main goal of this subject is to learn the concept of LSTM with PyTorch that you can also\n",
    "compare with the scratch version on Kaggle link above.\n",
    "This toy code doesn't carefully setted up with exception, it can cause error if you change some\n",
    "hyperparameters such as BATCH_SIZE...\n",
    "\"\"\"\n",
    "import os\n",
    "import numpy as np  \n",
    "import pandas as pd \n",
    "import torch\n",
    "import torch.utils.data as torch_data\n",
    "import torchvision\n",
    "import matplotlib.pyplot as plt\n",
    "import torch.nn as nn\n",
    "import torchvision.transforms as transforms\n",
    "import torch.nn.functional as F\n",
    "import torch.utils.data as Data\n",
    "from torch import optim\n",
    "# from google.colab import drive\n",
    "# drive.mount('/content/drive')\n",
    "# path = F'/content/drive/My Drive/ColabNotebooks/'\n",
    "model_save_name = 'checkpoint/LSTM.pt'\n",
    "# init_para = torch.load(path + model_save_name)"
   ]
  },
  {
   "cell_type": "code",
   "execution_count": 0,
   "metadata": {
    "colab": {
     "base_uri": "https://localhost:8080/",
     "height": 119
    },
    "colab_type": "code",
    "executionInfo": {
     "elapsed": 2265,
     "status": "ok",
     "timestamp": 1556271540042,
     "user": {
      "displayName": "張佳誠",
      "photoUrl": "",
      "userId": "15601548630795087269"
     },
     "user_tz": -480
    },
    "id": "c416V8JTML7g",
    "outputId": "a8fac861-482c-4b30-e153-fb932197f7ff"
   },
   "outputs": [
    {
     "name": "stdout",
     "output_type": "stream",
     "text": [
      "   Id       Name  Year Gender  Count\n",
      "0   1       Mary  1880      F   7065\n",
      "1   2       Anna  1880      F   2604\n",
      "2   3       Emma  1880      F   2003\n",
      "3   4  Elizabeth  1880      F   1939\n",
      "(1825433, 5)\n"
     ]
    }
   ],
   "source": [
    "#data \n",
    "data = pd.read_csv(path+'data/NationalNames.csv')\n",
    "print(data.loc[0:3,:])\n",
    "#get names from the dataset\n",
    "data['Name'] = data['Name']\n",
    "print(data.shape)\n",
    "#get last 128000 names\n",
    "name_num = 128000\n",
    "data = np.array(data['Name'][data.shape[0]-name_num:data.shape[0]]).reshape(-1,1)\n",
    "# data = np.array(data['Name'][300000:(300000+name_num)]).reshape(-1,1)\n",
    "\n",
    "#covert the names to lowee case\n",
    "data = [x.lower() for x in data[:,0]]\n",
    "\n",
    "data = np.array(data).reshape(-1,1)"
   ]
  },
  {
   "cell_type": "code",
   "execution_count": 0,
   "metadata": {
    "colab": {
     "base_uri": "https://localhost:8080/",
     "height": 238
    },
    "colab_type": "code",
    "executionInfo": {
     "elapsed": 817,
     "status": "ok",
     "timestamp": 1556271543652,
     "user": {
      "displayName": "張佳誠",
      "photoUrl": "",
      "userId": "15601548630795087269"
     },
     "user_tz": -480
    },
    "id": "EKCo2ozuMNBF",
    "outputId": "d4524071-9b57-4471-dcd1-32112bae0193"
   },
   "outputs": [
    {
     "name": "stdout",
     "output_type": "stream",
     "text": [
      "Data Shape = (128000, 1)\n",
      "(128000, 1)\n",
      "Lets see some names : \n",
      "[['inessa']\n",
      " ['isyss']\n",
      " ['jacob']\n",
      " ['jaelynne']\n",
      " ['janaye']\n",
      " ['janiece']\n",
      " ['janis']\n",
      " ['jasmina']\n",
      " ['jazalynn']\n",
      " ['jazell']]\n"
     ]
    }
   ],
   "source": [
    "print(\"Data Shape = {}\".format(data.shape))\n",
    "print(data.shape)\n",
    "print(\"Lets see some names : \")\n",
    "print(data[:10])"
   ]
  },
  {
   "cell_type": "code",
   "execution_count": 0,
   "metadata": {
    "colab": {
     "base_uri": "https://localhost:8080/",
     "height": 34
    },
    "colab_type": "code",
    "executionInfo": {
     "elapsed": 834,
     "status": "ok",
     "timestamp": 1556271545389,
     "user": {
      "displayName": "張佳誠",
      "photoUrl": "",
      "userId": "15601548630795087269"
     },
     "user_tz": -480
    },
    "id": "U8L7rzByMNMQ",
    "outputId": "aae15fb3-950a-4113-caac-5d86ee871349"
   },
   "outputs": [
    {
     "name": "stdout",
     "output_type": "stream",
     "text": [
      "15\n"
     ]
    }
   ],
   "source": [
    "#to store the transform data\n",
    "transform_data = np.copy(data)\n",
    "\n",
    "#find the max length name\n",
    "max_length = 0\n",
    "for index in range(len(data)):\n",
    "    max_length = max(max_length,len(data[index,0]))\n",
    "\n",
    "#make every name of max length by adding '.'\n",
    "for index in range(len(data)):\n",
    "    length = (max_length - len(data[index,0]))\n",
    "    string = '.'*length\n",
    "    transform_data[index,0] = ''.join([transform_data[index,0],string])\n",
    "print(max_length)"
   ]
  },
  {
   "cell_type": "code",
   "execution_count": 0,
   "metadata": {
    "colab": {
     "base_uri": "https://localhost:8080/",
     "height": 187
    },
    "colab_type": "code",
    "executionInfo": {
     "elapsed": 531,
     "status": "ok",
     "timestamp": 1556271546852,
     "user": {
      "displayName": "張佳誠",
      "photoUrl": "",
      "userId": "15601548630795087269"
     },
     "user_tz": -480
    },
    "id": "E5Vi856-MNUK",
    "outputId": "8a8a97d4-ee72-4b9e-b1fa-cd5dbc539c7e"
   },
   "outputs": [
    {
     "name": "stdout",
     "output_type": "stream",
     "text": [
      "Transformed Data\n",
      "[['isyss..........']\n",
      " ['jacob..........']\n",
      " ['jaelynne.......']\n",
      " ['janaye.........']\n",
      " ['janiece........']\n",
      " ['janis..........']\n",
      " ['jasmina........']\n",
      " ['jazalynn.......']\n",
      " ['jazell.........']]\n"
     ]
    }
   ],
   "source": [
    "print(\"Transformed Data\")\n",
    "print(transform_data[1:10])"
   ]
  },
  {
   "cell_type": "code",
   "execution_count": 0,
   "metadata": {
    "colab": {
     "base_uri": "https://localhost:8080/",
     "height": 71
    },
    "colab_type": "code",
    "executionInfo": {
     "elapsed": 1000,
     "status": "ok",
     "timestamp": 1556271548447,
     "user": {
      "displayName": "張佳誠",
      "photoUrl": "",
      "userId": "15601548630795087269"
     },
     "user_tz": -480
    },
    "id": "9FDA1P_NMNbf",
    "outputId": "1f54f950-f340-461c-a484-96007b62b44b"
   },
   "outputs": [
    {
     "name": "stdout",
     "output_type": "stream",
     "text": [
      "Vocab size = 27\n",
      "Vocab      = {'p', 'u', 'a', 'e', 's', 'm', 'c', 'f', 'j', 'q', 'z', 'i', 'y', 'x', 't', 'w', 'd', 'h', 'n', 'g', 'b', 'r', 'l', '.', 'v', 'o', 'k'}\n"
     ]
    }
   ],
   "source": [
    "#to store the vocabulary\n",
    "vocab = list()\n",
    "for name in transform_data[:,0]:\n",
    "    vocab.extend(list(name))\n",
    "\n",
    "vocab = set(vocab)\n",
    "vocab_size = len(vocab)\n",
    "\n",
    "print(\"Vocab size = {}\".format(len(vocab)))\n",
    "print(\"Vocab      = {}\".format(vocab))"
   ]
  },
  {
   "cell_type": "code",
   "execution_count": 0,
   "metadata": {
    "colab": {
     "base_uri": "https://localhost:8080/",
     "height": 34
    },
    "colab_type": "code",
    "executionInfo": {
     "elapsed": 550,
     "status": "ok",
     "timestamp": 1556271549555,
     "user": {
      "displayName": "張佳誠",
      "photoUrl": "",
      "userId": "15601548630795087269"
     },
     "user_tz": -480
    },
    "id": "zxpNlS_mMNe-",
    "outputId": "afd04db8-ed4a-4660-c18b-b32594f38a01"
   },
   "outputs": [
    {
     "name": "stdout",
     "output_type": "stream",
     "text": [
      "a-2, 19-g\n"
     ]
    }
   ],
   "source": [
    "#map char to id and id to chars\n",
    "char_id = dict()\n",
    "id_char = dict()\n",
    "\n",
    "for i,char in enumerate(vocab):\n",
    "    char_id[char] = i\n",
    "    id_char[i] = char\n",
    "\n",
    "\n",
    "print('a-{}, 19-{}'.format(char_id['a'],id_char[19]))\n"
   ]
  },
  {
   "cell_type": "code",
   "execution_count": 0,
   "metadata": {
    "colab": {
     "base_uri": "https://localhost:8080/",
     "height": 187
    },
    "colab_type": "code",
    "executionInfo": {
     "elapsed": 1293,
     "status": "ok",
     "timestamp": 1556271551516,
     "user": {
      "displayName": "張佳誠",
      "photoUrl": "",
      "userId": "15601548630795087269"
     },
     "user_tz": -480
    },
    "id": "26xTQl_JMNq4",
    "outputId": "0de44dac-da5f-4b80-a713-4995d0cae734"
   },
   "outputs": [
    {
     "name": "stdout",
     "output_type": "stream",
     "text": [
      "[[11 18  3  4  4  2 23 23 23 23 23 23 23 23 23]\n",
      " [11  4 12  4  4 23 23 23 23 23 23 23 23 23 23]\n",
      " [ 8  2  6 25 20 23 23 23 23 23 23 23 23 23 23]\n",
      " [ 8  2  3 22 12 18 18  3 23 23 23 23 23 23 23]\n",
      " [ 8  2 18  2 12  3 23 23 23 23 23 23 23 23 23]\n",
      " [ 8  2 18 11  3  6  3 23 23 23 23 23 23 23 23]\n",
      " [ 8  2 18 11  4 23 23 23 23 23 23 23 23 23 23]\n",
      " [ 8  2  4  5 11 18  2 23 23 23 23 23 23 23 23]\n",
      " [ 8  2 10  2 22 12 18 18 23 23 23 23 23 23 23]\n",
      " [ 8  2 10  3 22 22 23 23 23 23 23 23 23 23 23]]\n"
     ]
    }
   ],
   "source": [
    "number_data = np.array([[char_id[ch] for ch in name[0]] for name in transform_data])\n",
    "print(number_data[:10])"
   ]
  },
  {
   "cell_type": "code",
   "execution_count": 0,
   "metadata": {
    "colab": {
     "base_uri": "https://localhost:8080/",
     "height": 527
    },
    "colab_type": "code",
    "executionInfo": {
     "elapsed": 766,
     "status": "ok",
     "timestamp": 1556271553155,
     "user": {
      "displayName": "張佳誠",
      "photoUrl": "",
      "userId": "15601548630795087269"
     },
     "user_tz": -480
    },
    "id": "R1SPADwUMNuT",
    "outputId": "f22def6f-c13b-443c-e191-c212daa6f2c5"
   },
   "outputs": [
    {
     "data": {
      "text/plain": [
       "tensor([[0., 0., 0., 0., 0., 0., 0., 0., 0., 0., 0., 1., 0., 0., 0., 0., 0., 0.,\n",
       "         0., 0., 0., 0., 0., 0., 0., 0., 0.],\n",
       "        [0., 0., 0., 0., 0., 0., 0., 0., 0., 0., 0., 0., 0., 0., 0., 0., 0., 0.,\n",
       "         1., 0., 0., 0., 0., 0., 0., 0., 0.],\n",
       "        [0., 0., 0., 1., 0., 0., 0., 0., 0., 0., 0., 0., 0., 0., 0., 0., 0., 0.,\n",
       "         0., 0., 0., 0., 0., 0., 0., 0., 0.],\n",
       "        [0., 0., 0., 0., 1., 0., 0., 0., 0., 0., 0., 0., 0., 0., 0., 0., 0., 0.,\n",
       "         0., 0., 0., 0., 0., 0., 0., 0., 0.],\n",
       "        [0., 0., 0., 0., 1., 0., 0., 0., 0., 0., 0., 0., 0., 0., 0., 0., 0., 0.,\n",
       "         0., 0., 0., 0., 0., 0., 0., 0., 0.],\n",
       "        [0., 0., 1., 0., 0., 0., 0., 0., 0., 0., 0., 0., 0., 0., 0., 0., 0., 0.,\n",
       "         0., 0., 0., 0., 0., 0., 0., 0., 0.],\n",
       "        [0., 0., 0., 0., 0., 0., 0., 0., 0., 0., 0., 0., 0., 0., 0., 0., 0., 0.,\n",
       "         0., 0., 0., 0., 0., 1., 0., 0., 0.],\n",
       "        [0., 0., 0., 0., 0., 0., 0., 0., 0., 0., 0., 0., 0., 0., 0., 0., 0., 0.,\n",
       "         0., 0., 0., 0., 0., 1., 0., 0., 0.],\n",
       "        [0., 0., 0., 0., 0., 0., 0., 0., 0., 0., 0., 0., 0., 0., 0., 0., 0., 0.,\n",
       "         0., 0., 0., 0., 0., 1., 0., 0., 0.],\n",
       "        [0., 0., 0., 0., 0., 0., 0., 0., 0., 0., 0., 0., 0., 0., 0., 0., 0., 0.,\n",
       "         0., 0., 0., 0., 0., 1., 0., 0., 0.],\n",
       "        [0., 0., 0., 0., 0., 0., 0., 0., 0., 0., 0., 0., 0., 0., 0., 0., 0., 0.,\n",
       "         0., 0., 0., 0., 0., 1., 0., 0., 0.],\n",
       "        [0., 0., 0., 0., 0., 0., 0., 0., 0., 0., 0., 0., 0., 0., 0., 0., 0., 0.,\n",
       "         0., 0., 0., 0., 0., 1., 0., 0., 0.],\n",
       "        [0., 0., 0., 0., 0., 0., 0., 0., 0., 0., 0., 0., 0., 0., 0., 0., 0., 0.,\n",
       "         0., 0., 0., 0., 0., 1., 0., 0., 0.],\n",
       "        [0., 0., 0., 0., 0., 0., 0., 0., 0., 0., 0., 0., 0., 0., 0., 0., 0., 0.,\n",
       "         0., 0., 0., 0., 0., 1., 0., 0., 0.],\n",
       "        [0., 0., 0., 0., 0., 0., 0., 0., 0., 0., 0., 0., 0., 0., 0., 0., 0., 0.,\n",
       "         0., 0., 0., 0., 0., 1., 0., 0., 0.]])"
      ]
     },
     "execution_count": 263,
     "metadata": {
      "tags": []
     },
     "output_type": "execute_result"
    }
   ],
   "source": [
    "def one_hot_encode(arr, n_labels):\n",
    "    \n",
    "    # Initialize the the encoded array\n",
    "    one_hot = np.zeros((np.multiply(*arr.shape), n_labels), dtype=np.float32)\n",
    "    # Fill the appropriate elements with ones\n",
    "    one_hot[np.arange(one_hot.shape[0]), arr.flatten()] = 1.\n",
    "    # Finally reshape it to get back to the original array\n",
    "    one_hot = one_hot.reshape((*arr.shape, n_labels))\n",
    "    \n",
    "    return one_hot\n",
    "\n",
    "onehot_data = torch.from_numpy(one_hot_encode(number_data, len(vocab)))\n",
    "onehot_data[0,:]"
   ]
  },
  {
   "cell_type": "code",
   "execution_count": 0,
   "metadata": {
    "colab": {},
    "colab_type": "code",
    "id": "EMmxaaWkMNyU"
   },
   "outputs": [],
   "source": [
    "BATCH_SIZE = 128"
   ]
  },
  {
   "cell_type": "code",
   "execution_count": 0,
   "metadata": {
    "colab": {
     "base_uri": "https://localhost:8080/",
     "height": 391
    },
    "colab_type": "code",
    "executionInfo": {
     "elapsed": 717,
     "status": "ok",
     "timestamp": 1556271557053,
     "user": {
      "displayName": "張佳誠",
      "photoUrl": "",
      "userId": "15601548630795087269"
     },
     "user_tz": -480
    },
    "id": "bKkIiwQoMN6p",
    "outputId": "ab4d6bca-13f2-4ed4-dc9c-e40a12e10656"
   },
   "outputs": [
    {
     "name": "stdout",
     "output_type": "stream",
     "text": [
      "torch.Size([14, 128, 27])\n",
      "tensor([[11, 11,  8,  ...,  2,  2,  2],\n",
      "        [18,  4,  2,  ..., 11, 11, 26],\n",
      "        [ 3, 12,  6,  ..., 21, 12, 11],\n",
      "        ...,\n",
      "        [23, 23, 23,  ..., 23, 23, 23],\n",
      "        [23, 23, 23,  ..., 23, 23, 23],\n",
      "        [23, 23, 23,  ..., 23, 23, 23]])\n",
      "tensor([[18,  4,  2,  ..., 11, 11, 26],\n",
      "        [ 3, 12,  6,  ..., 21, 12, 11],\n",
      "        [ 4,  4, 25,  ...,  2,  2, 21],\n",
      "        ...,\n",
      "        [23, 23, 23,  ..., 23, 23, 23],\n",
      "        [23, 23, 23,  ..., 23, 23, 23],\n",
      "        [23, 23, 23,  ..., 23, 23, 23]])\n",
      "tensor([[0., 0., 0.,  ..., 0., 0., 0.],\n",
      "        [0., 0., 0.,  ..., 0., 0., 0.],\n",
      "        [0., 0., 0.,  ..., 0., 0., 0.],\n",
      "        ...,\n",
      "        [0., 0., 1.,  ..., 0., 0., 0.],\n",
      "        [0., 0., 1.,  ..., 0., 0., 0.],\n",
      "        [0., 0., 1.,  ..., 0., 0., 0.]])\n"
     ]
    }
   ],
   "source": [
    "def make_loader(one_hot_data, batch_size = BATCH_SIZE):\n",
    "    one_hot_data = one_hot_data.view(-1, BATCH_SIZE, max_length, vocab_size)\n",
    "    one_hot_data = one_hot_data.permute(0,2,1,3)\n",
    "    x_onehot = one_hot_data[:,:(max_length-1),:,:]\n",
    "    y_onehot = one_hot_data[:,1:,:,:]\n",
    "    for i in range(one_hot_data.shape[0]):\n",
    "        yield x_onehot[i], y_onehot[i]  \n",
    "        \n",
    "batch_test = next(make_loader(onehot_data))\n",
    "print(batch_test[0].shape)\n",
    "print(torch.max(batch_test[0],2)[1])\n",
    "print(torch.max(batch_test[1],2)[1])\n",
    "print(batch_test[0][0])\n"
   ]
  },
  {
   "cell_type": "code",
   "execution_count": 0,
   "metadata": {
    "colab": {},
    "colab_type": "code",
    "id": "iemsvv-MNakd"
   },
   "outputs": [],
   "source": [
    "HIDDEN_DIM = 256\n",
    "EPOCH = 100\n",
    "CLIP = 5\n",
    "LR = 0.0003\n",
    "NUM_LAYERS = 2"
   ]
  },
  {
   "cell_type": "code",
   "execution_count": 0,
   "metadata": {
    "colab": {},
    "colab_type": "code",
    "id": "mxO8HC1NNaag"
   },
   "outputs": [],
   "source": [
    "class lstm(nn.Module):\n",
    "    def __init__(self,  vocab_size, hidden_dim, num_layers = NUM_LAYERS):\n",
    "        super(lstm, self).__init__()\n",
    "        self.word_embeddings = nn.Linear(vocab_size, vocab_size*5)\n",
    "        self.lstm = nn.LSTM(vocab_size*5, hidden_dim ,num_layers = num_layers, batch_first=False)\n",
    "        self.hidden2vocab = nn.Linear(hidden_dim, vocab_size)\n",
    "        self.hidden_dim = hidden_dim\n",
    "        self.dropout = nn.Dropout(0.5)\n",
    "\n",
    "    def forward(self, x_onehot, hc):\n",
    "        embeds = self.word_embeddings(x_onehot)\n",
    "        lstm_out, (h,c) = self.lstm(embeds, hc)\n",
    "        lstm_out = lstm_out.contiguous().view(lstm_out.size()[0]*lstm_out.size()[1], self.hidden_dim)\n",
    "        lstm_out = self.dropout(lstm_out)\n",
    "        vocab_space = self.hidden2vocab(lstm_out)\n",
    "        return vocab_space, (h,c)\n",
    "      \n",
    "    def init_hidden(self, batch_size = BATCH_SIZE):\n",
    "        ''' Initializes hidden state '''\n",
    "        weight = next(self.parameters()).data\n",
    "        return (weight.new(self.n_layers, batch_size, self.n_hidden).zero_(),\n",
    "                weight.new(self.n_layers, batch_size, self.n_hidden).zero_())"
   ]
  },
  {
   "cell_type": "code",
   "execution_count": 0,
   "metadata": {
    "colab": {
     "base_uri": "https://localhost:8080/",
     "height": 402
    },
    "colab_type": "code",
    "executionInfo": {
     "elapsed": 130514,
     "status": "ok",
     "timestamp": 1556272921826,
     "user": {
      "displayName": "張佳誠",
      "photoUrl": "",
      "userId": "15601548630795087269"
     },
     "user_tz": -480
    },
    "id": "aoTm5wEINarw",
    "outputId": "0e32542d-2f06-473f-a909-bacaf56c838c"
   },
   "outputs": [
    {
     "name": "stdout",
     "output_type": "stream",
     "text": [
      "torch.Size([1792, 27])\n",
      "torch.Size([2, 128, 256])\n",
      "torch.Size([2, 128, 256])\n",
      "epoch:  0\n",
      "599.0479695796967\n",
      "epoch:  10\n",
      "593.4541606903076\n"
     ]
    },
    {
     "data": {
      "image/png": "[encoded data removed]",
      "text/plain": [
       "<Figure size 432x288 with 1 Axes>"
      ]
     },
     "metadata": {
      "tags": []
     },
     "output_type": "display_data"
    }
   ],
   "source": [
    "model = lstm(len(vocab), HIDDEN_DIM).cuda()\n",
    "if init_para is not None:\n",
    "    model.load_state_dict(init_para)\n",
    "model.train()\n",
    "criterion = nn.CrossEntropyLoss()\n",
    "opt = torch.optim.Adam(model.parameters(), lr=LR)\n",
    "# Here we don't need to train, so the code is wrapped in torch.no_grad()\n",
    "hc = (torch.zeros((NUM_LAYERS,BATCH_SIZE,HIDDEN_DIM)).cuda(),torch.zeros((NUM_LAYERS,BATCH_SIZE,HIDDEN_DIM)).cuda())\n",
    "with torch.no_grad():\n",
    "    x_test = next(make_loader(onehot_data))[0].cuda()\n",
    "    test_scores ,(h,c) = model(x_test,hc)\n",
    "    print(test_scores.shape)\n",
    "    print(h.shape)\n",
    "    print(c.shape)\n",
    "\n",
    "running_loss = np.zeros((EPOCH,))\n",
    "for epoch in range(EPOCH): \n",
    "    hc = (torch.zeros((NUM_LAYERS,BATCH_SIZE,HIDDEN_DIM)).cuda(),torch.zeros((NUM_LAYERS,BATCH_SIZE,HIDDEN_DIM)).cuda())\n",
    "    for step, (x_b, y_b) in enumerate(make_loader(onehot_data)):  \n",
    "        # Step 1. Remember that Pytorch accumulates gradients.\n",
    "        # We need to clear them out before each instance\n",
    "        model.zero_grad()\n",
    "        hc = tuple([each.data for each in hc])\n",
    "        \n",
    "        # Step 2. Run our forward pass.\n",
    "        x_b = x_b.cuda()\n",
    "        name_scores, hc = model(x_b, hc)\n",
    "\n",
    "        target = torch.max(y_b,2)[1].flatten().cuda()\n",
    "        # Step 3. Compute the loss, gradients, and update the parameters by\n",
    "        #  calling optimizer.step()\n",
    "        loss = criterion(name_scores,target)\n",
    "        running_loss[epoch] += loss.item()\n",
    "        loss.backward()\n",
    "        nn.utils.clip_grad_norm_(model.parameters(), CLIP)\n",
    "        opt.step()\n",
    "    if epoch % 10 == 0:\n",
    "        print('epoch: ' , epoch)\n",
    "        print(running_loss[epoch])\n",
    "        torch.save(model.state_dict(), path + model_save_name)\n",
    "            \n",
    "plt.plot(running_loss, label='Loss')\n",
    "plt.legend(loc='best')\n",
    "plt.xlabel('Steps')\n",
    "plt.ylabel('Loss')\n",
    "plt.show() \n",
    "#the loss pic below may not be a perfect L shape, \n",
    "#It's because I loaded and trained the parameters multiple times.\n",
    "\n",
    "\n"
   ]
  },
  {
   "cell_type": "code",
   "execution_count": 0,
   "metadata": {
    "colab": {},
    "colab_type": "code",
    "id": "x26kigmvNaxy"
   },
   "outputs": [],
   "source": [
    "torch.save(model.state_dict(), path + model_save_name)\n",
    "init_para = torch.load(path + model_save_name)\n"
   ]
  },
  {
   "cell_type": "code",
   "execution_count": 0,
   "metadata": {
    "colab": {
     "base_uri": "https://localhost:8080/",
     "height": 476
    },
    "colab_type": "code",
    "executionInfo": {
     "elapsed": 774,
     "status": "ok",
     "timestamp": 1556273267899,
     "user": {
      "displayName": "張佳誠",
      "photoUrl": "",
      "userId": "15601548630795087269"
     },
     "user_tz": -480
    },
    "id": "k2U6W7xnNa3g",
    "outputId": "f096eed7-2523-4f25-d9fe-ff4ce426d5a7"
   },
   "outputs": [
    {
     "name": "stdout",
     "output_type": "stream",
     "text": [
      "Patrick\n",
      "Ura\n",
      "Alexandria\n",
      "Elianna\n",
      "Shantell\n",
      "Marianna\n",
      "Carlee\n",
      "Fathima\n",
      "Jayden\n",
      "Quinnlyn\n",
      "Zana\n",
      "Isaly\n",
      "Yanni\n",
      "Xander\n",
      "Taylor\n",
      "Waldo\n",
      "Danielle\n",
      "Harley\n",
      "Nashay\n",
      "Gracelyn\n",
      "Britta\n",
      "Roselynn\n",
      "Laniyah\n",
      ".\n",
      "Vianna\n",
      "Oluwadamilola\n",
      "Kaylen\n"
     ]
    }
   ],
   "source": [
    "import random\n",
    "def make_new_name(model, first_letter = 'R'):\n",
    "    new_name_ls = [first_letter]\n",
    "    first_letter = first_letter.lower()\n",
    "    first_letter_id = np.array([[char_id[first_letter]]])\n",
    "    first_onehot = one_hot_encode(first_letter_id, len(vocab))\n",
    "    first_onehot = torch.from_numpy(first_onehot)\n",
    "    model.eval()\n",
    "    model.cpu()\n",
    "    \n",
    "    hc = (torch.zeros((NUM_LAYERS,1,HIDDEN_DIM)),torch.zeros((NUM_LAYERS,1,HIDDEN_DIM)))\n",
    "    pred, hc = model(first_onehot,hc)\n",
    "    pred_num = torch.max(pred,1)[1].item()\n",
    "    while pred_num != char_id['.']:\n",
    "        new_name_ls.append(id_char[pred_num])\n",
    "        new_letter_id = np.array([[pred_num]])\n",
    "        new_letter_onehot = torch.from_numpy(one_hot_encode(new_letter_id, len(vocab)))\n",
    "        pred, hc = model(new_letter_onehot,hc)\n",
    "        pred_num = torch.max(pred,1)[1].item()\n",
    "        \n",
    "    \n",
    "    return \"\".join(new_name_ls)\n",
    " \n",
    "for s in vocab:\n",
    "    s = s.upper()\n",
    "    print(make_new_name(model,s))"
   ]
  }
 ],
 "metadata": {
  "accelerator": "GPU",
  "colab": {
   "name": "LSTM_PyTorch.ipynb",
   "provenance": [],
   "version": "0.3.2"
  },
  "kernelspec": {
   "display_name": "Python 3",
   "language": "python",
   "name": "python3"
  },
  "language_info": {
   "codemirror_mode": {
    "name": "ipython",
    "version": 3
   },
   "file_extension": ".py",
   "mimetype": "text/x-python",
   "name": "python",
   "nbconvert_exporter": "python",
   "pygments_lexer": "ipython3",
   "version": "3.6.8"
  }
 },
 "nbformat": 4,
 "nbformat_minor": 1
}
